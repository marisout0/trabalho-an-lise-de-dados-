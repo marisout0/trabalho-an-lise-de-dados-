{
  "cells": [
    {
      "cell_type": "markdown",
      "id": "2facc6a6-dfc7-4eb5-929f-9b108d195a7d",
      "metadata": {
        "id": "2facc6a6-dfc7-4eb5-929f-9b108d195a7d"
      },
      "source": [
        "# **Introdução à linguagem Python**\n",
        "<font size=3>\n",
        "    \n",
        "O **Python** é uma das linguagens de programação mais utilizadas no mundo, especialmente nas áreas de **Ciência de Dados** e **Inteligência Artificial**. Sua sintaxe simples e clara, aliada a uma vasta coleção de bibliotecas e ferramentas, torna-o ideal tanto para iniciantes quanto para profissionais experientes. No contexto do nosso curso, o Python será a nossa principal ferramenta para implementar algoritmos, manipular dados e criar visualizações. Dominar seus fundamentos é essencial para compreender e aplicar técnicas de análise, modelagem e predição de forma eficiente e produtiva."
      ]
    },
    {
      "cell_type": "markdown",
      "id": "65d5da47-30af-481b-b1b6-cbb6c80fcd7e",
      "metadata": {
        "jp-MarkdownHeadingCollapsed": true,
        "id": "65d5da47-30af-481b-b1b6-cbb6c80fcd7e"
      },
      "source": [
        "## **1. Sintaxe e fundamentos básicos do Python:**\n",
        "<font size=3>\n",
        "    \n",
        "Python é uma linguagem conhecida por sua **simplicidade** e **clareza**, com uma sintaxe próxima à linguagem humana. Aqui vamos aprender o essencial para começar a programar."
      ]
    },
    {
      "cell_type": "markdown",
      "id": "f22a6d05-d74e-422e-9dc8-814974e22d35",
      "metadata": {
        "id": "f22a6d05-d74e-422e-9dc8-814974e22d35"
      },
      "source": [
        "### **1.1 Comentários:**\n",
        "<font size=3>\n",
        "    \n",
        "Comentários são trechos do código que **não são executados**.\n",
        "Servem para explicar o que o código faz, facilitando a leitura e manutenção."
      ]
    },
    {
      "cell_type": "code",
      "execution_count": null,
      "id": "311e921a-e28e-4f31-8b4a-e942bee483e6",
      "metadata": {
        "id": "311e921a-e28e-4f31-8b4a-e942bee483e6"
      },
      "outputs": [],
      "source": [
        "# Este é um comentário de uma linha\n",
        "\n",
        "\"\"\"\n",
        "Este é um comentário\n",
        "de várias linhas\n",
        "(geralmente usado para explicações maiores)\n",
        "\"\"\""
      ]
    },
    {
      "cell_type": "markdown",
      "id": "bfa77b56-4604-40c6-9bd3-5531e3234421",
      "metadata": {
        "id": "bfa77b56-4604-40c6-9bd3-5531e3234421"
      },
      "source": [
        "### **1.2 Tipos de dados primitivos:**\n",
        "<font size=3>\n",
        "\n",
        "Python possui diferentes tipos de dados básicos.\n",
        "Os mais comuns são:\n",
        "\n",
        "| Tipo    | Exemplo          | Uso comum        |\n",
        "| ------- | ---------------- | ---------------- |\n",
        "| `int`   | `10`             | Números inteiros |\n",
        "| `float` | `3.14`           | Números decimais |\n",
        "| `str`   | `\"Olá\"`          | Textos           |\n",
        "| `bool`  | `True` / `False` | Valores lógicos  |"
      ]
    },
    {
      "cell_type": "code",
      "execution_count": null,
      "id": "6f7cb184-4a72-4623-aa82-16da9bd11288",
      "metadata": {
        "id": "6f7cb184-4a72-4623-aa82-16da9bd11288"
      },
      "outputs": [],
      "source": [
        "idade = 20          # int\n",
        "altura = 1.75       # float\n",
        "nome = \"Fulano\"     # str\n",
        "estudante = True    # bool\n",
        "\n",
        "print(idade, altura, nome, estudante)"
      ]
    },
    {
      "cell_type": "code",
      "execution_count": null,
      "id": "f2b66123-8789-480e-8607-64a320b01ae2",
      "metadata": {
        "id": "f2b66123-8789-480e-8607-64a320b01ae2"
      },
      "outputs": [],
      "source": [
        "print(f\"Nome:{nome}\\nIdade:{idade}\\nAltura:{altura}\\nEstudante:{estudante}\")"
      ]
    },
    {
      "cell_type": "markdown",
      "id": "f7776a47-71a8-4c06-b1f8-2eb620deb284",
      "metadata": {
        "id": "f7776a47-71a8-4c06-b1f8-2eb620deb284"
      },
      "source": [
        "### **1.3 Entrada e saída de dados:**\n",
        "<font size=3>\n",
        "\n",
        "* `print()`: mostra informações na tela.\n",
        "* `input()`: recebe dados do usuário (sempre retorna uma **string**)."
      ]
    },
    {
      "cell_type": "code",
      "execution_count": null,
      "id": "fca115b3-b48d-44ca-943e-71b1a8c92347",
      "metadata": {
        "id": "fca115b3-b48d-44ca-943e-71b1a8c92347"
      },
      "outputs": [],
      "source": [
        "print(\"Bem-vindo ao curso de Python!\\n\")\n",
        "\n",
        "nome = input(\"Digite seu nome: \")\n",
        "print(\"Olá,\", nome)"
      ]
    },
    {
      "cell_type": "markdown",
      "id": "2885994c-2753-4cd6-b250-f196e19a7606",
      "metadata": {
        "id": "2885994c-2753-4cd6-b250-f196e19a7606"
      },
      "source": [
        "<font size=3>\n",
        "    \n",
        "Se precisar de **número** a partir do `input`, converta o valor:"
      ]
    },
    {
      "cell_type": "code",
      "execution_count": null,
      "id": "75adbb4a-e4a2-49e9-a59a-b13ab8f32513",
      "metadata": {
        "id": "75adbb4a-e4a2-49e9-a59a-b13ab8f32513"
      },
      "outputs": [],
      "source": [
        "idade = int(input(\"Digite sua idade: \"))\n",
        "\n",
        "print(\"Ano que vem você terá\", idade + 1, \"anos.\")"
      ]
    },
    {
      "cell_type": "markdown",
      "id": "6b6c924a-5852-460a-97ef-76b0805c738f",
      "metadata": {
        "id": "6b6c924a-5852-460a-97ef-76b0805c738f"
      },
      "source": [
        "### **1.4 Operadores:**\n",
        "<font size=3>\n",
        "\n",
        "Python possui vários operadores para cálculos e comparações.\n",
        "\n",
        "**Aritméticos**:"
      ]
    },
    {
      "cell_type": "code",
      "execution_count": null,
      "id": "c964eda1-1541-44e5-b6a1-15e706c7efdb",
      "metadata": {
        "id": "c964eda1-1541-44e5-b6a1-15e706c7efdb"
      },
      "outputs": [],
      "source": [
        "a = 10\n",
        "b = 3\n",
        "\n",
        "print(a + b)  # soma\n",
        "print(a - b)  # subtração\n",
        "print(a * b)  # multiplicação\n",
        "print(a / b)  # divisão\n",
        "print(a // b) # divisão inteira\n",
        "print(a % b)  # resto da divisão\n",
        "print(a ** b) # potência"
      ]
    },
    {
      "cell_type": "markdown",
      "id": "3897ae83-2710-4e53-b952-2962966f087a",
      "metadata": {
        "id": "3897ae83-2710-4e53-b952-2962966f087a"
      },
      "source": [
        "<font size=3>\n",
        "    \n",
        "**Relacionais** (retornam `True` ou `False`):"
      ]
    },
    {
      "cell_type": "code",
      "execution_count": null,
      "id": "9c708fa2-cdc4-49d0-841a-576dc0141b55",
      "metadata": {
        "id": "9c708fa2-cdc4-49d0-841a-576dc0141b55"
      },
      "outputs": [],
      "source": [
        "print(a > b)   # maior que\n",
        "print(a < b)   # menor que\n",
        "print(a == b)  # igual\n",
        "print(a != b)  # diferente"
      ]
    },
    {
      "cell_type": "markdown",
      "id": "227503c8-db70-41a0-9e2e-fc4ccbde131a",
      "metadata": {
        "id": "227503c8-db70-41a0-9e2e-fc4ccbde131a"
      },
      "source": [
        "<font size=3>\n",
        "\n",
        "**Lógicos**:"
      ]
    },
    {
      "cell_type": "code",
      "execution_count": null,
      "id": "488389f9-14fd-431e-ace2-811005981f6c",
      "metadata": {
        "id": "488389f9-14fd-431e-ace2-811005981f6c"
      },
      "outputs": [],
      "source": [
        "x = True\n",
        "y = False\n",
        "\n",
        "print(x and y) # e\n",
        "print(x or y)  # ou\n",
        "print(not x)   # não"
      ]
    },
    {
      "cell_type": "markdown",
      "id": "4b03fcde-3f71-4c01-9977-b8569f4011f9",
      "metadata": {
        "id": "4b03fcde-3f71-4c01-9977-b8569f4011f9"
      },
      "source": [
        "### **1.5 Conversão de tipos:**\n",
        "<font size=3>\n",
        "\n",
        "Às vezes precisamos converter valores para outro tipo."
      ]
    },
    {
      "cell_type": "code",
      "execution_count": null,
      "id": "d95f3903-1cc2-4e9f-a288-4583fd865d10",
      "metadata": {
        "id": "d95f3903-1cc2-4e9f-a288-4583fd865d10"
      },
      "outputs": [],
      "source": [
        "# string para número:\n",
        "numero = int(\"10\")\n",
        "print(numero + 5)"
      ]
    },
    {
      "cell_type": "code",
      "execution_count": null,
      "id": "3e5298b4-d408-4bd0-94d2-93d4762c03d4",
      "metadata": {
        "id": "3e5298b4-d408-4bd0-94d2-93d4762c03d4"
      },
      "outputs": [],
      "source": [
        "# número para string:\n",
        "texto = str(3.14)\n",
        "print(\"O valor é \" + texto)"
      ]
    },
    {
      "cell_type": "code",
      "execution_count": null,
      "id": "f06f2f6e-b0cd-450f-be73-cbfcf372d890",
      "metadata": {
        "id": "f06f2f6e-b0cd-450f-be73-cbfcf372d890"
      },
      "outputs": [],
      "source": [
        "# float para int (perde casas decimais):\n",
        "print(int(3.99))"
      ]
    },
    {
      "cell_type": "markdown",
      "id": "399fcefa-81c0-416b-a822-91b4d1560d52",
      "metadata": {
        "jp-MarkdownHeadingCollapsed": true,
        "id": "399fcefa-81c0-416b-a822-91b4d1560d52"
      },
      "source": [
        "## **2. Estruturas de Dados no Python**\n",
        "<font size=3>\n",
        "    \n",
        "Em programação, **estruturas de dados** são formas de **organizar e armazenar informações** na memória para facilitar o acesso e a manipulação.\n",
        "No Python, as mais comuns são: **listas**, **tuplas**, **dicionários** e **conjuntos**."
      ]
    },
    {
      "cell_type": "markdown",
      "id": "9d44d27d-a342-4c58-8053-69e9c92f7591",
      "metadata": {
        "id": "9d44d27d-a342-4c58-8053-69e9c92f7591"
      },
      "source": [
        "### **2.1 Listas:**\n",
        "<font size=3>\n",
        "\n",
        "* São **coleções ordenadas** de elementos.\n",
        "* Podem conter **tipos diferentes** (números, textos, etc.).\n",
        "* São **mutáveis** (podemos alterar o conteúdo)."
      ]
    },
    {
      "cell_type": "code",
      "execution_count": null,
      "id": "13721269-1c57-4885-97be-f0acfbab7214",
      "metadata": {
        "id": "13721269-1c57-4885-97be-f0acfbab7214"
      },
      "outputs": [],
      "source": [
        "# criando listas:\n",
        "numeros = [10, 20, 30, 40]\n",
        "mistura = [1, \"Python\", 3.14, True]\n",
        "\n",
        "# acessando elementos (índices começam em 0)\n",
        "print(numeros[0])\n",
        "print(mistura[1])"
      ]
    },
    {
      "cell_type": "code",
      "execution_count": null,
      "id": "9f7b66e8-2539-4409-9216-ac7305810eb8",
      "metadata": {
        "id": "9f7b66e8-2539-4409-9216-ac7305810eb8"
      },
      "outputs": [],
      "source": [
        "# alterando um elemento:\n",
        "numeros[2] = 99\n",
        "print(numeros)"
      ]
    },
    {
      "cell_type": "code",
      "execution_count": null,
      "id": "ba81b935-58c7-499e-9465-fc38ca93fe9e",
      "metadata": {
        "id": "ba81b935-58c7-499e-9465-fc38ca93fe9e"
      },
      "outputs": [],
      "source": [
        "# adicionando e removendo elementos:\n",
        "numeros.append(50)  # adiciona no final\n",
        "numeros.remove(20)  # remove pelo valor\n",
        "print(numeros)"
      ]
    },
    {
      "cell_type": "code",
      "execution_count": null,
      "id": "fd1c355c-4bd0-4540-9e10-f565e7f178e3",
      "metadata": {
        "id": "fd1c355c-4bd0-4540-9e10-f565e7f178e3"
      },
      "outputs": [],
      "source": [
        "# tamanho da lista:\n",
        "print(len(numeros))"
      ]
    },
    {
      "cell_type": "code",
      "execution_count": null,
      "id": "f5480a2d-7942-4b60-a1d6-8e7665733d01",
      "metadata": {
        "id": "f5480a2d-7942-4b60-a1d6-8e7665733d01"
      },
      "outputs": [],
      "source": [
        "# fatiamento (slice):\n",
        "print(numeros[1:3]) # do índice 1 até 2\n",
        "print(numeros[::-1]) # lista invertida"
      ]
    },
    {
      "cell_type": "markdown",
      "id": "d5a90d4a-6950-4cb5-a712-cc600dba30d2",
      "metadata": {
        "id": "d5a90d4a-6950-4cb5-a712-cc600dba30d2"
      },
      "source": [
        "### **2.2 Tuplas:**\n",
        "<font size=3>\n",
        "\n",
        "* Parecem listas, mas são **imutáveis** (não podem ser alteradas após a criação).\n",
        "* Úteis para representar dados que **não devem mudar**."
      ]
    },
    {
      "cell_type": "code",
      "execution_count": null,
      "id": "a6ef20ba-72b9-422c-89a5-7af1bceb0efb",
      "metadata": {
        "id": "a6ef20ba-72b9-422c-89a5-7af1bceb0efb"
      },
      "outputs": [],
      "source": [
        "# criando uma tupla:\n",
        "coordenadas = (10, 20)\n",
        "\n",
        "# acessando elementos\n",
        "print(coordenadas[0])  # 10\n",
        "\n",
        "# Não é possível alterar\n",
        "# coordenadas[0] = 15  # Erro!"
      ]
    },
    {
      "cell_type": "markdown",
      "id": "e1e2426f-cdd6-4f4c-8233-6cdecd51d88f",
      "metadata": {
        "id": "e1e2426f-cdd6-4f4c-8233-6cdecd51d88f"
      },
      "source": [
        "<font size=3>\n",
        "    \n",
        "Para criar uma tupla de **um elemento só**, coloque uma vírgula:"
      ]
    },
    {
      "cell_type": "code",
      "execution_count": null,
      "id": "65c64a9d-d4eb-4233-b247-63bfac554a73",
      "metadata": {
        "id": "65c64a9d-d4eb-4233-b247-63bfac554a73"
      },
      "outputs": [],
      "source": [
        "minha_tupla = (5,)\n",
        "minha_tupla"
      ]
    },
    {
      "cell_type": "markdown",
      "id": "df2f1400-0e1b-47b1-ba2b-80d9237cf145",
      "metadata": {
        "id": "df2f1400-0e1b-47b1-ba2b-80d9237cf145"
      },
      "source": [
        "### **2.3 Dicionários:**\n",
        "<font size=3>\n",
        "\n",
        "* Guardam dados no formato **chave: valor**.\n",
        "* Muito usados para representar **objetos** ou **registros**."
      ]
    },
    {
      "cell_type": "code",
      "execution_count": null,
      "id": "c5eba7b9-ad72-4bcc-8cd1-6180009030ee",
      "metadata": {
        "id": "c5eba7b9-ad72-4bcc-8cd1-6180009030ee"
      },
      "outputs": [],
      "source": [
        "# criando um dicionário:\n",
        "aluno = {\"nome\": \"Cicrano\",\n",
        "         \"idade\": 21,\n",
        "         \"curso\": \"IA\"}\n",
        "\n",
        "# acessando valores:\n",
        "print(aluno[\"nome\"])"
      ]
    },
    {
      "cell_type": "code",
      "execution_count": null,
      "id": "5d289032-bd6d-4866-b1ab-e2a16e54358e",
      "metadata": {
        "id": "5d289032-bd6d-4866-b1ab-e2a16e54358e"
      },
      "outputs": [],
      "source": [
        "# adicionando ou alterando valores:\n",
        "aluno[\"idade\"] = 22\n",
        "aluno[\"cidade\"] = \"Natal\""
      ]
    },
    {
      "cell_type": "code",
      "execution_count": null,
      "id": "e2bd575a-4d1b-45c3-987b-5b7e90f1036e",
      "metadata": {
        "id": "e2bd575a-4d1b-45c3-987b-5b7e90f1036e"
      },
      "outputs": [],
      "source": [
        "# removendo uma chave:\n",
        "del aluno[\"curso\"]\n",
        "\n",
        "# iterando pelas chaves e valores:\n",
        "for chave, valor in aluno.items():\n",
        "    print(chave, \"-\", valor)\n"
      ]
    },
    {
      "cell_type": "markdown",
      "id": "215a6be7-72a9-4c9d-9bc1-5e0968b01140",
      "metadata": {
        "id": "215a6be7-72a9-4c9d-9bc1-5e0968b01140"
      },
      "source": [
        "### **2.4 Conjuntos (sets):**\n",
        "<font size=3>\n",
        "\n",
        "* Coleções **não ordenadas** e **sem elementos repetidos**.\n",
        "* Ideais para operações de **união**, **interseção** e **diferença**."
      ]
    },
    {
      "cell_type": "code",
      "execution_count": null,
      "id": "3df91f30-e0b2-4042-9705-e7d7faf2b124",
      "metadata": {
        "id": "3df91f30-e0b2-4042-9705-e7d7faf2b124"
      },
      "outputs": [],
      "source": [
        "# Criando conjuntos\n",
        "A = {1, 2, 3, 4}\n",
        "B = {3, 4, 5, 6}\n",
        "\n",
        "print(A.union(B))        # união\n",
        "print(A.intersection(B)) # interseção\n",
        "print(A.difference(B))   # diferença"
      ]
    },
    {
      "cell_type": "markdown",
      "id": "b4699eae-399a-44c5-b03e-17bcbdbd03d7",
      "metadata": {
        "id": "b4699eae-399a-44c5-b03e-17bcbdbd03d7"
      },
      "source": [
        "<font size=3>\n",
        "    \n",
        "Como conjuntos não têm ordem, **não é possível acessar elementos** por índice."
      ]
    },
    {
      "cell_type": "markdown",
      "id": "813d71cf-21ca-4314-91c0-786d5bc5e1a5",
      "metadata": {
        "jp-MarkdownHeadingCollapsed": true,
        "id": "813d71cf-21ca-4314-91c0-786d5bc5e1a5"
      },
      "source": [
        "## **3. Estruturas de controle:**\n",
        "<font size=3>\n",
        "    \n",
        "Estruturas de controle permitem **tomar decisões** e **repetir ações** no código.\n",
        "Elas são essenciais para criar programas dinâmicos que respondem a diferentes situações."
      ]
    },
    {
      "cell_type": "markdown",
      "id": "cb0bae68-4048-420e-b7d2-a748680194f0",
      "metadata": {
        "id": "cb0bae68-4048-420e-b7d2-a748680194f0"
      },
      "source": [
        "### **3.1 Condicionais – `if`, `elif`, `else`:**\n",
        "<font size=3>\n",
        "\n",
        "Servem para **executar diferentes blocos de código** dependendo de condições lógicas."
      ]
    },
    {
      "cell_type": "code",
      "execution_count": null,
      "id": "cf2b9931-9530-407a-8195-68c1a8247010",
      "metadata": {
        "id": "cf2b9931-9530-407a-8195-68c1a8247010"
      },
      "outputs": [],
      "source": [
        "idade = int(input(\"Digite sua idade: \"))\n",
        "\n",
        "if idade >= 18:\n",
        "    print(\"Você é maior de idade.\")\n",
        "\n",
        "elif idade >= 12:\n",
        "    print(\"Você é adolescente.\")\n",
        "\n",
        "else:\n",
        "    print(\"Você é criança.\")\n"
      ]
    },
    {
      "cell_type": "markdown",
      "id": "5fe10c1b-dbfe-4601-bf12-f6fbc7c1ea9f",
      "metadata": {
        "id": "5fe10c1b-dbfe-4601-bf12-f6fbc7c1ea9f"
      },
      "source": [
        "<font size=3>\n",
        "    \n",
        "Observe que o Python **usa indentação** (espaços) para definir blocos de código.\n",
        "Por padrão, são usados **4 espaços** por nível."
      ]
    },
    {
      "cell_type": "markdown",
      "id": "e1493c7c-97bd-4077-99f3-8641c2baca29",
      "metadata": {
        "id": "e1493c7c-97bd-4077-99f3-8641c2baca29"
      },
      "source": [
        "### **3.2 Laço `for`:**\n",
        "<font size=3>\n",
        "\n",
        "Utilizado para **percorrer elementos** de uma sequência (lista, string, intervalo de números...)."
      ]
    },
    {
      "cell_type": "code",
      "execution_count": null,
      "id": "cc2980e8-b1d5-4b82-91fd-0dfd0b5de5e1",
      "metadata": {
        "id": "cc2980e8-b1d5-4b82-91fd-0dfd0b5de5e1"
      },
      "outputs": [],
      "source": [
        "# percorrendo uma lista:\n",
        "frutas = [\"maçã\", \"banana\", \"uva\"]\n",
        "\n",
        "for fruta in frutas:\n",
        "    print(\"Eu gosto de\", fruta)\n"
      ]
    },
    {
      "cell_type": "code",
      "execution_count": null,
      "id": "1ee6888a-ee54-4c06-ae06-1bc69daec40d",
      "metadata": {
        "id": "1ee6888a-ee54-4c06-ae06-1bc69daec40d"
      },
      "outputs": [],
      "source": [
        "# usando range():\n",
        "for i in range(5):  # de 0 até 4\n",
        "    print(i)\n"
      ]
    },
    {
      "cell_type": "code",
      "execution_count": null,
      "id": "a20d724e-8fa8-4205-9ea8-c4d386802efa",
      "metadata": {
        "id": "a20d724e-8fa8-4205-9ea8-c4d386802efa"
      },
      "outputs": [],
      "source": [
        "# com intervalo personalizado:\n",
        "for i in range(2, 10, 2):  # começa em 2, vai até 9, de 2 em 2\n",
        "    print(i)\n"
      ]
    },
    {
      "cell_type": "markdown",
      "id": "b0b50349-5c45-45f4-82dd-a98ac9ffe6a8",
      "metadata": {
        "id": "b0b50349-5c45-45f4-82dd-a98ac9ffe6a8"
      },
      "source": [
        "### **3.3 Laço `while`:**\n",
        "<font size=3>\n",
        "\n",
        "Repete um bloco **enquanto** uma condição for verdadeira."
      ]
    },
    {
      "cell_type": "code",
      "execution_count": null,
      "id": "956437c3-0abe-466d-a1c8-56d4f2998fbb",
      "metadata": {
        "id": "956437c3-0abe-466d-a1c8-56d4f2998fbb"
      },
      "outputs": [],
      "source": [
        "contador = 1\n",
        "\n",
        "while contador <= 5:\n",
        "\n",
        "    print(\"Contador:\", contador)\n",
        "\n",
        "    contador += 1\n"
      ]
    },
    {
      "cell_type": "markdown",
      "id": "d472bfae-e246-46a7-aff4-94ffa72510f4",
      "metadata": {
        "id": "d472bfae-e246-46a7-aff4-94ffa72510f4"
      },
      "source": [
        "<font size=3>\n",
        "    \n",
        "**Cuidado** com laços infinitos! Se a condição nunca se tornar falsa, o loop não acaba."
      ]
    },
    {
      "cell_type": "markdown",
      "id": "9dd2a644-122c-4042-ba92-b37c2789437b",
      "metadata": {
        "id": "9dd2a644-122c-4042-ba92-b37c2789437b"
      },
      "source": [
        "### **3.4 `break` e `continue`:**\n",
        "<font size=3>\n",
        "\n",
        "* `break`: interrompe o loop antes do fim.\n",
        "* `continue`: pula para a próxima iteração."
      ]
    },
    {
      "cell_type": "code",
      "execution_count": null,
      "id": "5bc31140-ed66-4139-a64d-56fd80abd0a7",
      "metadata": {
        "id": "5bc31140-ed66-4139-a64d-56fd80abd0a7"
      },
      "outputs": [],
      "source": [
        "for numero in range(1, 10):\n",
        "    if numero == 5:\n",
        "        break  # sai do loop\n",
        "\n",
        "    print(numero)\n"
      ]
    },
    {
      "cell_type": "code",
      "execution_count": null,
      "id": "4f52f6a3-9334-4819-9fcc-9d9b4ae430a3",
      "metadata": {
        "id": "4f52f6a3-9334-4819-9fcc-9d9b4ae430a3"
      },
      "outputs": [],
      "source": [
        "for numero in range(1, 6):\n",
        "    if numero == 3:\n",
        "        continue  # pula o número 3\n",
        "\n",
        "    print(numero)\n"
      ]
    },
    {
      "cell_type": "markdown",
      "id": "77ec76d7-d4e5-4753-8f59-405b73965369",
      "metadata": {
        "id": "77ec76d7-d4e5-4753-8f59-405b73965369"
      },
      "source": [
        "### **3.5 `enumerate()`:**\n",
        "<font size=3>\n",
        "\n",
        "Usado no `for` para **obter o índice e o valor** ao mesmo tempo."
      ]
    },
    {
      "cell_type": "code",
      "execution_count": null,
      "id": "97b7a8f3-3f0c-4276-8db8-ae65a2d34491",
      "metadata": {
        "id": "97b7a8f3-3f0c-4276-8db8-ae65a2d34491"
      },
      "outputs": [],
      "source": [
        "nomes = [\"Falano\", \"Cicrano\", \"Beutrano\"]\n",
        "\n",
        "for indice, nome in enumerate(nomes):\n",
        "    print(indice, \"-\", nome)\n"
      ]
    },
    {
      "cell_type": "markdown",
      "id": "dc284954-ad5f-4ee1-a4ab-3a15ebb81282",
      "metadata": {
        "jp-MarkdownHeadingCollapsed": true,
        "id": "dc284954-ad5f-4ee1-a4ab-3a15ebb81282"
      },
      "source": [
        "## **4. Funções no Python:**\n",
        "<font size=3>\n",
        "\n",
        "Funções são **blocos de código reutilizáveis** que executam uma tarefa específica.\n",
        "Elas ajudam a **organizar o código**, **evitar repetições** e **facilitar a manutenção**."
      ]
    },
    {
      "cell_type": "markdown",
      "id": "6206efa6-afb2-43e7-980c-e4d64b45e7bd",
      "metadata": {
        "id": "6206efa6-afb2-43e7-980c-e4d64b45e7bd"
      },
      "source": [
        "### **4.1 Criando uma função:**\n",
        "<font size=3>\n",
        "\n",
        "Usamos a palavra-chave `def` para definir uma função."
      ]
    },
    {
      "cell_type": "code",
      "execution_count": null,
      "id": "c44a5ec9-3853-400b-8068-a2467eb59d0f",
      "metadata": {
        "id": "c44a5ec9-3853-400b-8068-a2467eb59d0f"
      },
      "outputs": [],
      "source": [
        "def saudacao():\n",
        "    print(\"Olá! Seja bem-vindo ao curso de Python.\")\n",
        "\n",
        "# chamando a função:\n",
        "saudacao()"
      ]
    },
    {
      "cell_type": "markdown",
      "id": "a78810d7-9526-4b53-abb6-e7d0ed4f0268",
      "metadata": {
        "id": "a78810d7-9526-4b53-abb6-e7d0ed4f0268"
      },
      "source": [
        "### **4.2 Parâmetros:**\n",
        "<font size=3>\n",
        "\n",
        "Podemos passar valores para a função, chamados de **parâmetros**."
      ]
    },
    {
      "cell_type": "code",
      "execution_count": null,
      "id": "4648bf2c-9982-4c9a-8a89-c45044214504",
      "metadata": {
        "id": "4648bf2c-9982-4c9a-8a89-c45044214504"
      },
      "outputs": [],
      "source": [
        "def saudacao_personalizada(nome):\n",
        "    print(f\"Olá, {nome}! Bem-vindo ao curso.\")\n",
        "\n",
        "saudacao_personalizada(\"Fulano\")\n",
        "saudacao_personalizada(\"Cicrano\")"
      ]
    },
    {
      "cell_type": "markdown",
      "id": "a73372a0-4563-4c4d-8f0e-c655e44bf25c",
      "metadata": {
        "id": "a73372a0-4563-4c4d-8f0e-c655e44bf25c"
      },
      "source": [
        "<font size=3>\n",
        "    \n",
        "No Python, uma função pode ter **múltiplos parâmetros**."
      ]
    },
    {
      "cell_type": "code",
      "execution_count": null,
      "id": "e53c8ce4-2528-4c3c-ab38-f7cf522a0736",
      "metadata": {
        "id": "e53c8ce4-2528-4c3c-ab38-f7cf522a0736"
      },
      "outputs": [],
      "source": [
        "def apresentar(nome, idade):\n",
        "    print(f\"{nome} tem {idade} anos.\")\n",
        "\n",
        "apresentar(\"Fulana\", 21)"
      ]
    },
    {
      "cell_type": "markdown",
      "id": "eee7ccb5-c638-43b7-821c-fd32c85f1aef",
      "metadata": {
        "id": "eee7ccb5-c638-43b7-821c-fd32c85f1aef"
      },
      "source": [
        "### **4.3 Retornando valores:**\n",
        "<font size=3>\n",
        "\n",
        "Usamos `return` quando queremos que a função devolva um resultado."
      ]
    },
    {
      "cell_type": "code",
      "execution_count": null,
      "id": "1084769d-d534-44b0-9fa4-325b9d5fda78",
      "metadata": {
        "id": "1084769d-d534-44b0-9fa4-325b9d5fda78"
      },
      "outputs": [],
      "source": [
        "def soma(a, b):\n",
        "    return a + b\n",
        "\n",
        "resultado = soma(5, 3)\n",
        "\n",
        "print(\"O resultado da soma é:\", resultado)"
      ]
    },
    {
      "cell_type": "markdown",
      "id": "5308e58b-9e55-4b2f-aa04-578ba71e8a1d",
      "metadata": {
        "id": "5308e58b-9e55-4b2f-aa04-578ba71e8a1d"
      },
      "source": [
        "### **4.4 Valores padrão:**\n",
        "<font size=3>\n",
        "\n",
        "Podemos definir valores padrão para parâmetros."
      ]
    },
    {
      "cell_type": "code",
      "execution_count": null,
      "id": "21c626f9-ed0d-4b15-aafc-a8b712f2dc07",
      "metadata": {
        "id": "21c626f9-ed0d-4b15-aafc-a8b712f2dc07"
      },
      "outputs": [],
      "source": [
        "def potencia(base, expoente=2):\n",
        "    return base**expoente\n",
        "\n",
        "print(potencia(5))    # usa expoente=2 (valor padrão)\n",
        "print(potencia(5, 3)) # expoente informado"
      ]
    },
    {
      "cell_type": "markdown",
      "id": "431b18b7-e85b-49e8-857b-cd2a561a829e",
      "metadata": {
        "id": "431b18b7-e85b-49e8-857b-cd2a561a829e"
      },
      "source": [
        "### **4.5 Escopo de variáveis:**\n",
        "<font size=3>\n",
        "\n",
        "* **Variáveis locais:** criadas dentro da função, só existem nela.\n",
        "* **Variáveis globais:** criadas fora da função, acessíveis no programa todo."
      ]
    },
    {
      "cell_type": "code",
      "execution_count": null,
      "id": "07737fc6-af5d-4bd4-adbd-8413acdee048",
      "metadata": {
        "id": "07737fc6-af5d-4bd4-adbd-8413acdee048"
      },
      "outputs": [],
      "source": [
        "x = 10  # variável global\n",
        "\n",
        "def exemplo():\n",
        "    x = 5  # variável local\n",
        "    print(\"Dentro da função:\", x)\n",
        "\n",
        "exemplo()\n",
        "\n",
        "print(\"Fora da função:\", x)"
      ]
    },
    {
      "cell_type": "markdown",
      "id": "636c1f32-efce-4978-9883-1d5fe7a4a8b9",
      "metadata": {
        "id": "636c1f32-efce-4978-9883-1d5fe7a4a8b9"
      },
      "source": [
        "### **4.6 Funções anônimas (`lambda`):**\n",
        "<font size=3>\n",
        "\n",
        "São funções curtas escritas em **uma única linha**."
      ]
    },
    {
      "cell_type": "code",
      "execution_count": null,
      "id": "f660ce35-6e9d-4998-a5a9-d0d71f4ac40e",
      "metadata": {
        "id": "f660ce35-6e9d-4998-a5a9-d0d71f4ac40e"
      },
      "outputs": [],
      "source": [
        "dobro = lambda x: 2*x\n",
        "\n",
        "print(dobro(7))"
      ]
    },
    {
      "cell_type": "markdown",
      "id": "0a76697a-021b-4cb5-afe5-b924cb18d217",
      "metadata": {
        "id": "0a76697a-021b-4cb5-afe5-b924cb18d217"
      },
      "source": [
        "<font size=3>\n",
        "    \n",
        "Geralmente usadas em combinações com funções como [map(  )](https://docs.python.org/3/library/functions.html#map), [filter(  )](https://docs.python.org/3/library/functions.html#filter) e [sorted(  )](https://docs.python.org/3/library/functions.html#sorted)."
      ]
    },
    {
      "cell_type": "markdown",
      "id": "25383fd0-6545-4a3f-89ff-9d454dc30404",
      "metadata": {
        "id": "25383fd0-6545-4a3f-89ff-9d454dc30404"
      },
      "source": [
        "### **4.7 Documentando funções (docstrings):**\n",
        "<font size=3>\n",
        "\n",
        "Podemos adicionar uma descrição sobre o que a função faz."
      ]
    },
    {
      "cell_type": "code",
      "execution_count": null,
      "id": "1d39a16d-3b66-4e25-9821-26a682586e2a",
      "metadata": {
        "id": "1d39a16d-3b66-4e25-9821-26a682586e2a"
      },
      "outputs": [],
      "source": [
        "def soma(a, b):\n",
        "    \"\"\"\n",
        "    Retorna a soma de dois números.\n",
        "    Parâmetros:\n",
        "    a (int ou float): primeiro número\n",
        "    b (int ou float): segundo número\n",
        "    \"\"\"\n",
        "    return a + b\n",
        "\n",
        "help(soma)  # mostra a documentação"
      ]
    },
    {
      "cell_type": "markdown",
      "id": "2598733c-7c00-4d00-a83e-fd64a67b9799",
      "metadata": {
        "jp-MarkdownHeadingCollapsed": true,
        "id": "2598733c-7c00-4d00-a83e-fd64a67b9799"
      },
      "source": [
        "## **5. Manipulação de Arquivos:**\n",
        "<font size=3>\n",
        "\n",
        "Em muitos programas, precisamos **salvar informações** para usar depois ou **ler dados** que já estão armazenados.\n",
        "No Python, isso é feito com funções como `open()`, `read()`, `write()` e usando o gerenciador de contexto `with`."
      ]
    },
    {
      "cell_type": "markdown",
      "id": "29dd8ef6-5194-449e-a8a7-9bfe72eed74d",
      "metadata": {
        "id": "29dd8ef6-5194-449e-a8a7-9bfe72eed74d"
      },
      "source": [
        "### **5.1 Abrindo um arquivo**\n",
        "<font size=3>\n",
        "\n",
        "A função `open()` recebe dois argumentos principais:\n",
        "\n",
        "* **Nome do arquivo** (e caminho, se necessário).\n",
        "* **Modo de abertura**:\n",
        "\n",
        "  * `\"r\"` → leitura (*read*)\n",
        "  * `\"w\"` → escrita (*write*) – apaga o conteúdo existente\n",
        "  * `\"a\"` → acrescentar (*append*) – adiciona no final do arquivo\n",
        "  * `\"x\"` → criar novo arquivo (erro se já existir)"
      ]
    },
    {
      "cell_type": "markdown",
      "id": "8144bca3-59c6-46be-b2fc-cda3c6249828",
      "metadata": {
        "id": "8144bca3-59c6-46be-b2fc-cda3c6249828"
      },
      "source": [
        "<font size=3>\n",
        "    \n",
        "**ATENÇÃO:** caso esteja executando este notebook no **Colab**, siga as instruções do notebook $\\texttt{import\\_no\\_colab.ipynb}$ para importar o arquivo *Zen of Python* adequadamente."
      ]
    },
    {
      "cell_type": "code",
      "execution_count": null,
      "id": "7f8051a2-b3c9-4a99-b6eb-c73387412ba0",
      "metadata": {
        "id": "7f8051a2-b3c9-4a99-b6eb-c73387412ba0"
      },
      "outputs": [],
      "source": [
        "# abrindo um arquivo para leitura:\n",
        "arquivo = open(\"dataset/zen-of-python.txt\", \"r\")\n",
        "\n",
        "conteudo = arquivo.read()\n",
        "\n",
        "print(conteudo)\n",
        "\n",
        "arquivo.close()"
      ]
    },
    {
      "cell_type": "markdown",
      "id": "3a683f09-48c5-46c1-9a24-6b7030bb28c7",
      "metadata": {
        "id": "3a683f09-48c5-46c1-9a24-6b7030bb28c7"
      },
      "source": [
        "### **5.2 Usando `with` (forma recomendada)**\n",
        "<font size=3>\n",
        "\n",
        "O `with` garante que o arquivo seja **fechado automaticamente** após o uso."
      ]
    },
    {
      "cell_type": "code",
      "execution_count": null,
      "id": "141ed904-d451-4554-8628-461b72053276",
      "metadata": {
        "id": "141ed904-d451-4554-8628-461b72053276"
      },
      "outputs": [],
      "source": [
        "with open(\"dataset/zen-of-python.txt\", \"r\") as arquivo:\n",
        "    conteudo = arquivo.read()\n",
        "    print(conteudo)\n"
      ]
    },
    {
      "cell_type": "markdown",
      "id": "ce561e07-a460-469f-8320-aa1151e68b41",
      "metadata": {
        "id": "ce561e07-a460-469f-8320-aa1151e68b41"
      },
      "source": [
        "### **5.3 Lendo arquivos:**\n",
        "<font size=3>\n",
        "\n",
        "Podemos ler todo o conteúdo de uma vez (como no código acima) ou linha por linha."
      ]
    },
    {
      "cell_type": "code",
      "execution_count": null,
      "id": "521a5c67-e52a-4316-84fc-0f55cef33028",
      "metadata": {
        "id": "521a5c67-e52a-4316-84fc-0f55cef33028"
      },
      "outputs": [],
      "source": [
        "with open(\"dataset/zen-of-python.txt\", \"r\") as arquivo:\n",
        "    for linha in arquivo:\n",
        "        print(linha.strip())  # strip() remove quebras de linha\n"
      ]
    },
    {
      "cell_type": "markdown",
      "id": "0112b87c-f107-4e79-9f48-4ca82149c462",
      "metadata": {
        "id": "0112b87c-f107-4e79-9f48-4ca82149c462"
      },
      "source": [
        "### **5.4 Escrevendo em arquivos:**\n",
        "<font size=3>\n",
        "\n",
        "No modo `\"w\"`, o conteúdo antigo é apagado.\n",
        "No modo `\"a\"`, o conteúdo é acrescentado no final."
      ]
    },
    {
      "cell_type": "code",
      "execution_count": null,
      "id": "60600d51-767b-4596-9d98-0f4cc64428f5",
      "metadata": {
        "id": "60600d51-767b-4596-9d98-0f4cc64428f5"
      },
      "outputs": [],
      "source": [
        "# criando ou sobrescrevendo:\n",
        "with open(\"dataset/exemplo_texto.txt\", \"w\") as arquivo:\n",
        "    arquivo.write(\"Primeira linha\\n\")\n",
        "    arquivo.write(\"Segunda linha\\n\")\n",
        "\n",
        "# acrescentando:\n",
        "with open(\"dataset/exemplo_texto.txt\", \"a\") as arquivo:\n",
        "    arquivo.write(\"Terceira linha\\n\")\n"
      ]
    },
    {
      "cell_type": "markdown",
      "id": "94c67c10-74a2-4596-ad24-452f4b24a4fe",
      "metadata": {
        "id": "94c67c10-74a2-4596-ad24-452f4b24a4fe"
      },
      "source": [
        "### **5.5 Trabalhando com arquivos CSV:**\n",
        "<font size=3>\n",
        "\n",
        "O formato **CSV** (*Comma-Separated Values*) é muito usado em dados.\n",
        "Podemos manipulá-lo com o módulo `csv`."
      ]
    },
    {
      "cell_type": "code",
      "execution_count": null,
      "id": "9e504860-791a-434c-935d-52289e2a0487",
      "metadata": {
        "id": "9e504860-791a-434c-935d-52289e2a0487"
      },
      "outputs": [],
      "source": [
        "import csv\n",
        "\n",
        "# escrevendo em .csv:\n",
        "with open(\"dataset/exemplo_dados.csv\", \"w\", newline=\"\") as arquivo:\n",
        "    escritor = csv.writer(arquivo)\n",
        "    escritor.writerow([\"Nome\", \"Idade\"])\n",
        "    escritor.writerow([\"Ana\", 21])\n",
        "    escritor.writerow([\"Carlos\", 25])\n",
        "\n",
        "# lendo .csv:\n",
        "with open(\"dataset/exemplo_dados.csv\", \"r\") as arquivo:\n",
        "    leitor = csv.reader(arquivo)\n",
        "    for linha in leitor:\n",
        "        print(linha)\n"
      ]
    }
  ],
  "metadata": {
    "kernelspec": {
      "display_name": "Python 3 (ipykernel)",
      "language": "python",
      "name": "python3"
    },
    "language_info": {
      "codemirror_mode": {
        "name": "ipython",
        "version": 3
      },
      "file_extension": ".py",
      "mimetype": "text/x-python",
      "name": "python",
      "nbconvert_exporter": "python",
      "pygments_lexer": "ipython3",
      "version": "3.12.11"
    },
    "colab": {
      "provenance": [],
      "collapsed_sections": [
        "65d5da47-30af-481b-b1b6-cbb6c80fcd7e",
        "399fcefa-81c0-416b-a822-91b4d1560d52",
        "813d71cf-21ca-4314-91c0-786d5bc5e1a5",
        "dc284954-ad5f-4ee1-a4ab-3a15ebb81282",
        "2598733c-7c00-4d00-a83e-fd64a67b9799"
      ]
    }
  },
  "nbformat": 4,
  "nbformat_minor": 5
}